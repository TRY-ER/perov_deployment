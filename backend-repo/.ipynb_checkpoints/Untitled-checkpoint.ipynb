{
 "cells": [
  {
   "cell_type": "code",
   "execution_count": 11,
   "id": "3fe82199-5b06-409d-9045-fa6d7d3fcbf9",
   "metadata": {},
   "outputs": [],
   "source": [
    "import joblib"
   ]
  },
  {
   "cell_type": "code",
   "execution_count": 12,
   "id": "c8e9e72c-0d34-4b5a-b630-a94952178ebf",
   "metadata": {},
   "outputs": [],
   "source": [
    "f = joblib.load(\"coldata_serial.z\")"
   ]
  },
  {
   "cell_type": "code",
   "execution_count": 20,
   "id": "9f53c916-1d36-4994-a265-4fc7fb43491b",
   "metadata": {},
   "outputs": [],
   "source": [
    "new_format = []\n",
    "for key,val in f.items():\n",
    "    main_dict = {}\n",
    "    for value in val:\n",
    "        new_dict  = {}\n",
    "        new_dict[\"title\"] = \" \".join(value[\"title\"].split(\"_\"))\n",
    "        new_dict[\"count\"] = value[\"count\"]\n",
    "        new_dict[\"type\"] = value[\"type\"]\n",
    "        new_dict[\"u_val\"] = value[\"u_val\"]\n",
    "        new_dict[\"min\"] = value[\"min\"]\n",
    "        new_dict[\"max\"] = value[\"max\"]\n",
    "        main_dict[value[\"title\"]] = new_dict\n",
    "    new_format.append(main_dict)"
   ]
  },
  {
   "cell_type": "code",
   "execution_count": null,
   "id": "a74a3ed1-e9c0-4fed-90da-ab6f6d900c44",
   "metadata": {},
   "outputs": [],
   "source": []
  },
  {
   "cell_type": "code",
   "execution_count": 23,
   "id": "dc62b3f2-a8b2-476a-a45e-335d4c3b5048",
   "metadata": {},
   "outputs": [],
   "source": [
    "export = {\"col_props\": new_format}"
   ]
  },
  {
   "cell_type": "code",
   "execution_count": 25,
   "id": "14085437-3dca-47f0-bcfc-064d3432f23b",
   "metadata": {},
   "outputs": [
    {
     "data": {
      "text/plain": [
       "['coldata_serial.z']"
      ]
     },
     "execution_count": 25,
     "metadata": {},
     "output_type": "execute_result"
    }
   ],
   "source": [
    "joblib.dump(export,\"coldata_serial.z\")"
   ]
  },
  {
   "cell_type": "code",
   "execution_count": null,
   "id": "3af07ff8-6539-4137-af45-caefc96946c7",
   "metadata": {},
   "outputs": [],
   "source": []
  }
 ],
 "metadata": {
  "kernelspec": {
   "display_name": "Python 3 (ipykernel)",
   "language": "python",
   "name": "python3"
  },
  "language_info": {
   "codemirror_mode": {
    "name": "ipython",
    "version": 3
   },
   "file_extension": ".py",
   "mimetype": "text/x-python",
   "name": "python",
   "nbconvert_exporter": "python",
   "pygments_lexer": "ipython3",
   "version": "3.7.9"
  }
 },
 "nbformat": 4,
 "nbformat_minor": 5
}
