{
 "cells": [
  {
   "cell_type": "code",
   "execution_count": 1,
   "id": "e03c258e-a73c-4bdb-8651-3540c799c7ea",
   "metadata": {},
   "outputs": [],
   "source": [
    "import joblib"
   ]
  },
  {
   "cell_type": "code",
   "execution_count": 2,
   "id": "7c20a73c-d310-436c-b910-18eda3dbe0ca",
   "metadata": {},
   "outputs": [],
   "source": [
    "f = joblib.load(\"C:/prog_runner/perov_ML_processor/regressor_main/propdict.z\")"
   ]
  },
  {
   "cell_type": "code",
   "execution_count": null,
   "id": "3b193067-04f3-4991-a558-b6ee1c9a9c1b",
   "metadata": {},
   "outputs": [],
   "source": []
  },
  {
   "cell_type": "code",
   "execution_count": 3,
   "id": "fcbb7b6c-1df4-4782-a971-45c4d750f720",
   "metadata": {},
   "outputs": [],
   "source": [
    "for key,item in f.items():\n",
    "    if item[\"type\"] == \"numeric\":\n",
    "        item[\"u_val\"] = \"None\""
   ]
  },
  {
   "cell_type": "code",
   "execution_count": null,
   "id": "6c71ac1d-9129-431d-85db-4f4cb456a04b",
   "metadata": {},
   "outputs": [],
   "source": []
  },
  {
   "cell_type": "code",
   "execution_count": 4,
   "id": "45d634e9-67d4-496d-afb7-c1393fc0eb46",
   "metadata": {},
   "outputs": [],
   "source": [
    "new_list = []\n",
    "for key,item in f.items():\n",
    "    new_dict = {}\n",
    "    new_dict[key] = item\n",
    "    new_list.append(new_dict)"
   ]
  },
  {
   "cell_type": "code",
   "execution_count": null,
   "id": "f209b17e-ba64-4cb8-9d2d-50646156182f",
   "metadata": {},
   "outputs": [],
   "source": []
  },
  {
   "cell_type": "code",
   "execution_count": 5,
   "id": "3d94eb99-b88a-4bbb-b8d4-0eb67193ad6b",
   "metadata": {},
   "outputs": [],
   "source": [
    "values = {\"col_props\":new_list}"
   ]
  },
  {
   "cell_type": "code",
   "execution_count": 6,
   "id": "74e0b144-1163-4fc6-9dfd-182e19299c9c",
   "metadata": {},
   "outputs": [],
   "source": [
    "for v  in new_list:\n",
    "    for key,val in v.items():\n",
    "        for an_key,an_val in val.items():\n",
    "            if an_key == \"u_val\":\n",
    "                if not isinstance(an_val,str):\n",
    "                    val[an_key] = an_val.tolist()"
   ]
  },
  {
   "cell_type": "code",
   "execution_count": 7,
   "id": "e405ed37-5d45-48ff-9c3d-71a0cbd3c98b",
   "metadata": {},
   "outputs": [],
   "source": [
    "values = {\"col_props\":new_list}"
   ]
  },
  {
   "cell_type": "code",
   "execution_count": 8,
   "id": "434026b2-21db-44f2-9f7a-0621ae4310d6",
   "metadata": {},
   "outputs": [
    {
     "data": {
      "text/plain": [
       "['coldata_main.z']"
      ]
     },
     "execution_count": 8,
     "metadata": {},
     "output_type": "execute_result"
    }
   ],
   "source": [
    "joblib.dump(values,\"coldata_main.z\")"
   ]
  },
  {
   "cell_type": "code",
   "execution_count": null,
   "id": "b9ac41d5-c95f-4a65-ab13-aa6cbe2ca615",
   "metadata": {},
   "outputs": [],
   "source": []
  },
  {
   "cell_type": "code",
   "execution_count": 9,
   "id": "43dcee2d-2d0f-4200-afb0-e817552c7359",
   "metadata": {},
   "outputs": [
    {
     "data": {
      "text/plain": [
       "dict"
      ]
     },
     "execution_count": 9,
     "metadata": {},
     "output_type": "execute_result"
    }
   ],
   "source": [
    "import joblib\n",
    "f = joblib.load(\"./coldata_main.z\")\n",
    "type(f)"
   ]
  },
  {
   "cell_type": "code",
   "execution_count": 10,
   "id": "e3c4b270-44cf-4bca-a1b5-1663eb3be2ee",
   "metadata": {},
   "outputs": [],
   "source": [
    "# for k,v in f.items():\n",
    "#     for val in v:\n",
    "#         for m,n in val.items():\n",
    "#             for q,r in n.items():\n",
    "#                 print(type(q),type(r))"
   ]
  },
  {
   "cell_type": "code",
   "execution_count": 11,
   "id": "2e8db46f-c30a-4d92-8790-280e386cfdf0",
   "metadata": {},
   "outputs": [],
   "source": [
    "for k,v in f.items():\n",
    "    for val in v:\n",
    "        for m,n in val.items():\n",
    "            for q,r in n.items():\n",
    "                if not (isinstance(r,str) or isinstance(r,float) or isinstance(r,int) or isinstance(r,list)):\n",
    "                    n[q] = r.item()"
   ]
  },
  {
   "cell_type": "code",
   "execution_count": 12,
   "id": "7b8985d1-361f-434a-a447-5fc803f0ccab",
   "metadata": {},
   "outputs": [],
   "source": [
    "import numpy as np\n",
    "for k,v in f.items():\n",
    "    for val in v:\n",
    "        for m,n in val.items():\n",
    "            for q,r in n.items():\n",
    "                if isinstance(r,np.float64):\n",
    "                    n[q] = r.item()"
   ]
  },
  {
   "cell_type": "code",
   "execution_count": 13,
   "id": "68330254-8161-46dc-bc02-ed3d27942f73",
   "metadata": {},
   "outputs": [
    {
     "data": {
      "text/plain": [
       "['coldata_mod.z']"
      ]
     },
     "execution_count": 13,
     "metadata": {},
     "output_type": "execute_result"
    }
   ],
   "source": [
    "joblib.dump(f,\"coldata_mod.z\")"
   ]
  },
  {
   "cell_type": "code",
   "execution_count": null,
   "id": "6ba3b286-6387-4656-84bd-bd821928503f",
   "metadata": {},
   "outputs": [],
   "source": []
  },
  {
   "cell_type": "code",
   "execution_count": 14,
   "id": "3c714180-73ac-42cc-8ca3-e829b9b976c4",
   "metadata": {},
   "outputs": [],
   "source": [
    "import joblib\n",
    "f = joblib.load(\"coldata_mod.z\")\n",
    "new_dict = {}\n",
    "for val in f[\"col_props\"]:\n",
    "    for key,it in val.items():\n",
    "        new_dict[key] = it\n"
   ]
  },
  {
   "cell_type": "code",
   "execution_count": 15,
   "id": "9546368e-2209-4987-9811-8d5f1304b615",
   "metadata": {},
   "outputs": [
    {
     "data": {
      "text/plain": [
       "['col_data_dict.z']"
      ]
     },
     "execution_count": 15,
     "metadata": {},
     "output_type": "execute_result"
    }
   ],
   "source": [
    "joblib.dump(new_dict,\"col_data_dict.z\")"
   ]
  },
  {
   "cell_type": "code",
   "execution_count": 16,
   "id": "ab49a38d-3355-4f7e-901c-173593dd6edd",
   "metadata": {},
   "outputs": [],
   "source": [
    "for key,val in new_dict.items():\n",
    "    val[\"title\"] = \" \".join(key.split(\"_\"))"
   ]
  },
  {
   "cell_type": "code",
   "execution_count": 19,
   "id": "e75c29ff-0ef9-4edb-a575-2559d6eaa9ac",
   "metadata": {},
   "outputs": [
    {
     "data": {
      "text/plain": [
       "['col_data_dict.z']"
      ]
     },
     "execution_count": 19,
     "metadata": {},
     "output_type": "execute_result"
    }
   ],
   "source": [
    "joblib.dump(new_dict,\"col_data_dict.z\")"
   ]
  },
  {
   "cell_type": "code",
   "execution_count": null,
   "id": "bccf45df-d6aa-4e40-a6db-0e4dc27ef750",
   "metadata": {},
   "outputs": [],
   "source": []
  },
  {
   "cell_type": "code",
   "execution_count": null,
   "id": "99c9f887-3b68-41fd-bffa-4c6c9cb70dfa",
   "metadata": {},
   "outputs": [],
   "source": []
  }
 ],
 "metadata": {
  "kernelspec": {
   "display_name": "Python 3 (ipykernel)",
   "language": "python",
   "name": "python3"
  },
  "language_info": {
   "codemirror_mode": {
    "name": "ipython",
    "version": 3
   },
   "file_extension": ".py",
   "mimetype": "text/x-python",
   "name": "python",
   "nbconvert_exporter": "python",
   "pygments_lexer": "ipython3",
   "version": "3.7.9"
  }
 },
 "nbformat": 4,
 "nbformat_minor": 5
}
